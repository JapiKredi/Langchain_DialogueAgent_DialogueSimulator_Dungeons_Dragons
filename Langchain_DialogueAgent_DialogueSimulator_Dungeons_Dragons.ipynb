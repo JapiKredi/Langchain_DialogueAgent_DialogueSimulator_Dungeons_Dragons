{
  "nbformat": 4,
  "nbformat_minor": 0,
  "metadata": {
    "colab": {
      "provenance": [],
      "authorship_tag": "ABX9TyMJ4fAGg9ykGifkLfvvy0+Z",
      "include_colab_link": true
    },
    "kernelspec": {
      "name": "python3",
      "display_name": "Python 3"
    },
    "language_info": {
      "name": "python"
    }
  },
  "cells": [
    {
      "cell_type": "markdown",
      "metadata": {
        "id": "view-in-github",
        "colab_type": "text"
      },
      "source": [
        "<a href=\"https://colab.research.google.com/github/JapiKredi/Langchain_DialogueAgent_DialogueSimulator_Dungeons_Dragons/blob/main/Langchain_DialogueAgent_DialogueSimulator_Dungeons_Dragons.ipynb\" target=\"_parent\"><img src=\"https://colab.research.google.com/assets/colab-badge.svg\" alt=\"Open In Colab\"/></a>"
      ]
    },
    {
      "cell_type": "markdown",
      "source": [
        "# Two-Player Dungeons & Dragons\n",
        "\n"
      ],
      "metadata": {
        "id": "jZ1Jkf7qBx2h"
      }
    },
    {
      "cell_type": "markdown",
      "source": [
        "In this notebook, we show how we can use concepts from CAMEL to simulate a role-playing game with a protagonist and a dungeon master. To simulate this game, we create an DialogueSimulator class that coordinates the dialogue between the two agents.\n",
        "\n",
        "CAMEL: https://www.camel-ai.org/"
      ],
      "metadata": {
        "id": "O_pWo81OB_Mj"
      }
    },
    {
      "cell_type": "markdown",
      "source": [
        "## Import LangChain modules"
      ],
      "metadata": {
        "id": "picgrPNgCH14"
      }
    },
    {
      "cell_type": "code",
      "source": [
        "!pip install langchain\n",
        "!pip install langchain_openai"
      ],
      "metadata": {
        "colab": {
          "base_uri": "https://localhost:8080/"
        },
        "id": "C8ZOojjaCWUO",
        "outputId": "70fa032d-ae0d-4384-92c8-ec9e8f44ef8f"
      },
      "execution_count": 2,
      "outputs": [
        {
          "output_type": "stream",
          "name": "stdout",
          "text": [
            "Collecting langchain\n",
            "  Downloading langchain-0.1.11-py3-none-any.whl (807 kB)\n",
            "\u001b[?25l     \u001b[90m━━━━━━━━━━━━━━━━━━━━━━━━━━━━━━━━━━━━━━━━\u001b[0m \u001b[32m0.0/807.5 kB\u001b[0m \u001b[31m?\u001b[0m eta \u001b[36m-:--:--\u001b[0m\r\u001b[2K     \u001b[91m━━━━━━━━━━━━━━\u001b[0m\u001b[90m╺\u001b[0m\u001b[90m━━━━━━━━━━━━━━━━━━━━━━━━━\u001b[0m \u001b[32m286.7/807.5 kB\u001b[0m \u001b[31m8.5 MB/s\u001b[0m eta \u001b[36m0:00:01\u001b[0m\r\u001b[2K     \u001b[90m━━━━━━━━━━━━━━━━━━━━━━━━━━━━━━━━━━━━━━━━\u001b[0m \u001b[32m807.5/807.5 kB\u001b[0m \u001b[31m16.0 MB/s\u001b[0m eta \u001b[36m0:00:00\u001b[0m\n",
            "\u001b[?25hRequirement already satisfied: PyYAML>=5.3 in /usr/local/lib/python3.10/dist-packages (from langchain) (6.0.1)\n",
            "Requirement already satisfied: SQLAlchemy<3,>=1.4 in /usr/local/lib/python3.10/dist-packages (from langchain) (2.0.28)\n",
            "Requirement already satisfied: aiohttp<4.0.0,>=3.8.3 in /usr/local/lib/python3.10/dist-packages (from langchain) (3.9.3)\n",
            "Requirement already satisfied: async-timeout<5.0.0,>=4.0.0 in /usr/local/lib/python3.10/dist-packages (from langchain) (4.0.3)\n",
            "Collecting dataclasses-json<0.7,>=0.5.7 (from langchain)\n",
            "  Downloading dataclasses_json-0.6.4-py3-none-any.whl (28 kB)\n",
            "Collecting jsonpatch<2.0,>=1.33 (from langchain)\n",
            "  Downloading jsonpatch-1.33-py2.py3-none-any.whl (12 kB)\n",
            "Collecting langchain-community<0.1,>=0.0.25 (from langchain)\n",
            "  Downloading langchain_community-0.0.27-py3-none-any.whl (1.8 MB)\n",
            "\u001b[2K     \u001b[90m━━━━━━━━━━━━━━━━━━━━━━━━━━━━━━━━━━━━━━━━\u001b[0m \u001b[32m1.8/1.8 MB\u001b[0m \u001b[31m63.3 MB/s\u001b[0m eta \u001b[36m0:00:00\u001b[0m\n",
            "\u001b[?25hCollecting langchain-core<0.2,>=0.1.29 (from langchain)\n",
            "  Downloading langchain_core-0.1.30-py3-none-any.whl (256 kB)\n",
            "\u001b[2K     \u001b[90m━━━━━━━━━━━━━━━━━━━━━━━━━━━━━━━━━━━━━━━━\u001b[0m \u001b[32m256.9/256.9 kB\u001b[0m \u001b[31m28.0 MB/s\u001b[0m eta \u001b[36m0:00:00\u001b[0m\n",
            "\u001b[?25hCollecting langchain-text-splitters<0.1,>=0.0.1 (from langchain)\n",
            "  Downloading langchain_text_splitters-0.0.1-py3-none-any.whl (21 kB)\n",
            "Collecting langsmith<0.2.0,>=0.1.17 (from langchain)\n",
            "  Downloading langsmith-0.1.23-py3-none-any.whl (66 kB)\n",
            "\u001b[2K     \u001b[90m━━━━━━━━━━━━━━━━━━━━━━━━━━━━━━━━━━━━━━━━\u001b[0m \u001b[32m66.6/66.6 kB\u001b[0m \u001b[31m9.3 MB/s\u001b[0m eta \u001b[36m0:00:00\u001b[0m\n",
            "\u001b[?25hRequirement already satisfied: numpy<2,>=1 in /usr/local/lib/python3.10/dist-packages (from langchain) (1.25.2)\n",
            "Requirement already satisfied: pydantic<3,>=1 in /usr/local/lib/python3.10/dist-packages (from langchain) (2.6.3)\n",
            "Requirement already satisfied: requests<3,>=2 in /usr/local/lib/python3.10/dist-packages (from langchain) (2.31.0)\n",
            "Requirement already satisfied: tenacity<9.0.0,>=8.1.0 in /usr/local/lib/python3.10/dist-packages (from langchain) (8.2.3)\n",
            "Requirement already satisfied: aiosignal>=1.1.2 in /usr/local/lib/python3.10/dist-packages (from aiohttp<4.0.0,>=3.8.3->langchain) (1.3.1)\n",
            "Requirement already satisfied: attrs>=17.3.0 in /usr/local/lib/python3.10/dist-packages (from aiohttp<4.0.0,>=3.8.3->langchain) (23.2.0)\n",
            "Requirement already satisfied: frozenlist>=1.1.1 in /usr/local/lib/python3.10/dist-packages (from aiohttp<4.0.0,>=3.8.3->langchain) (1.4.1)\n",
            "Requirement already satisfied: multidict<7.0,>=4.5 in /usr/local/lib/python3.10/dist-packages (from aiohttp<4.0.0,>=3.8.3->langchain) (6.0.5)\n",
            "Requirement already satisfied: yarl<2.0,>=1.0 in /usr/local/lib/python3.10/dist-packages (from aiohttp<4.0.0,>=3.8.3->langchain) (1.9.4)\n",
            "Collecting marshmallow<4.0.0,>=3.18.0 (from dataclasses-json<0.7,>=0.5.7->langchain)\n",
            "  Downloading marshmallow-3.21.1-py3-none-any.whl (49 kB)\n",
            "\u001b[2K     \u001b[90m━━━━━━━━━━━━━━━━━━━━━━━━━━━━━━━━━━━━━━━━\u001b[0m \u001b[32m49.4/49.4 kB\u001b[0m \u001b[31m6.4 MB/s\u001b[0m eta \u001b[36m0:00:00\u001b[0m\n",
            "\u001b[?25hCollecting typing-inspect<1,>=0.4.0 (from dataclasses-json<0.7,>=0.5.7->langchain)\n",
            "  Downloading typing_inspect-0.9.0-py3-none-any.whl (8.8 kB)\n",
            "Collecting jsonpointer>=1.9 (from jsonpatch<2.0,>=1.33->langchain)\n",
            "  Downloading jsonpointer-2.4-py2.py3-none-any.whl (7.8 kB)\n",
            "Requirement already satisfied: anyio<5,>=3 in /usr/local/lib/python3.10/dist-packages (from langchain-core<0.2,>=0.1.29->langchain) (3.7.1)\n",
            "Requirement already satisfied: packaging<24.0,>=23.2 in /usr/local/lib/python3.10/dist-packages (from langchain-core<0.2,>=0.1.29->langchain) (23.2)\n",
            "Collecting orjson<4.0.0,>=3.9.14 (from langsmith<0.2.0,>=0.1.17->langchain)\n",
            "  Downloading orjson-3.9.15-cp310-cp310-manylinux_2_17_x86_64.manylinux2014_x86_64.whl (138 kB)\n",
            "\u001b[2K     \u001b[90m━━━━━━━━━━━━━━━━━━━━━━━━━━━━━━━━━━━━━━━━\u001b[0m \u001b[32m138.5/138.5 kB\u001b[0m \u001b[31m16.5 MB/s\u001b[0m eta \u001b[36m0:00:00\u001b[0m\n",
            "\u001b[?25hRequirement already satisfied: annotated-types>=0.4.0 in /usr/local/lib/python3.10/dist-packages (from pydantic<3,>=1->langchain) (0.6.0)\n",
            "Requirement already satisfied: pydantic-core==2.16.3 in /usr/local/lib/python3.10/dist-packages (from pydantic<3,>=1->langchain) (2.16.3)\n",
            "Requirement already satisfied: typing-extensions>=4.6.1 in /usr/local/lib/python3.10/dist-packages (from pydantic<3,>=1->langchain) (4.10.0)\n",
            "Requirement already satisfied: charset-normalizer<4,>=2 in /usr/local/lib/python3.10/dist-packages (from requests<3,>=2->langchain) (3.3.2)\n",
            "Requirement already satisfied: idna<4,>=2.5 in /usr/local/lib/python3.10/dist-packages (from requests<3,>=2->langchain) (3.6)\n",
            "Requirement already satisfied: urllib3<3,>=1.21.1 in /usr/local/lib/python3.10/dist-packages (from requests<3,>=2->langchain) (2.0.7)\n",
            "Requirement already satisfied: certifi>=2017.4.17 in /usr/local/lib/python3.10/dist-packages (from requests<3,>=2->langchain) (2024.2.2)\n",
            "Requirement already satisfied: greenlet!=0.4.17 in /usr/local/lib/python3.10/dist-packages (from SQLAlchemy<3,>=1.4->langchain) (3.0.3)\n",
            "Requirement already satisfied: sniffio>=1.1 in /usr/local/lib/python3.10/dist-packages (from anyio<5,>=3->langchain-core<0.2,>=0.1.29->langchain) (1.3.1)\n",
            "Requirement already satisfied: exceptiongroup in /usr/local/lib/python3.10/dist-packages (from anyio<5,>=3->langchain-core<0.2,>=0.1.29->langchain) (1.2.0)\n",
            "Collecting mypy-extensions>=0.3.0 (from typing-inspect<1,>=0.4.0->dataclasses-json<0.7,>=0.5.7->langchain)\n",
            "  Downloading mypy_extensions-1.0.0-py3-none-any.whl (4.7 kB)\n",
            "Installing collected packages: orjson, mypy-extensions, marshmallow, jsonpointer, typing-inspect, jsonpatch, langsmith, dataclasses-json, langchain-core, langchain-text-splitters, langchain-community, langchain\n",
            "Successfully installed dataclasses-json-0.6.4 jsonpatch-1.33 jsonpointer-2.4 langchain-0.1.11 langchain-community-0.0.27 langchain-core-0.1.30 langchain-text-splitters-0.0.1 langsmith-0.1.23 marshmallow-3.21.1 mypy-extensions-1.0.0 orjson-3.9.15 typing-inspect-0.9.0\n",
            "Collecting langchain_openai\n",
            "  Downloading langchain_openai-0.0.8-py3-none-any.whl (32 kB)\n",
            "Requirement already satisfied: langchain-core<0.2.0,>=0.1.27 in /usr/local/lib/python3.10/dist-packages (from langchain_openai) (0.1.30)\n",
            "Collecting openai<2.0.0,>=1.10.0 (from langchain_openai)\n",
            "  Downloading openai-1.13.3-py3-none-any.whl (227 kB)\n",
            "\u001b[2K     \u001b[90m━━━━━━━━━━━━━━━━━━━━━━━━━━━━━━━━━━━━━━━━\u001b[0m \u001b[32m227.4/227.4 kB\u001b[0m \u001b[31m7.3 MB/s\u001b[0m eta \u001b[36m0:00:00\u001b[0m\n",
            "\u001b[?25hCollecting tiktoken<1,>=0.5.2 (from langchain_openai)\n",
            "  Downloading tiktoken-0.6.0-cp310-cp310-manylinux_2_17_x86_64.manylinux2014_x86_64.whl (1.8 MB)\n",
            "\u001b[2K     \u001b[90m━━━━━━━━━━━━━━━━━━━━━━━━━━━━━━━━━━━━━━━━\u001b[0m \u001b[32m1.8/1.8 MB\u001b[0m \u001b[31m69.1 MB/s\u001b[0m eta \u001b[36m0:00:00\u001b[0m\n",
            "\u001b[?25hRequirement already satisfied: PyYAML>=5.3 in /usr/local/lib/python3.10/dist-packages (from langchain-core<0.2.0,>=0.1.27->langchain_openai) (6.0.1)\n",
            "Requirement already satisfied: anyio<5,>=3 in /usr/local/lib/python3.10/dist-packages (from langchain-core<0.2.0,>=0.1.27->langchain_openai) (3.7.1)\n",
            "Requirement already satisfied: jsonpatch<2.0,>=1.33 in /usr/local/lib/python3.10/dist-packages (from langchain-core<0.2.0,>=0.1.27->langchain_openai) (1.33)\n",
            "Requirement already satisfied: langsmith<0.2.0,>=0.1.0 in /usr/local/lib/python3.10/dist-packages (from langchain-core<0.2.0,>=0.1.27->langchain_openai) (0.1.23)\n",
            "Requirement already satisfied: packaging<24.0,>=23.2 in /usr/local/lib/python3.10/dist-packages (from langchain-core<0.2.0,>=0.1.27->langchain_openai) (23.2)\n",
            "Requirement already satisfied: pydantic<3,>=1 in /usr/local/lib/python3.10/dist-packages (from langchain-core<0.2.0,>=0.1.27->langchain_openai) (2.6.3)\n",
            "Requirement already satisfied: requests<3,>=2 in /usr/local/lib/python3.10/dist-packages (from langchain-core<0.2.0,>=0.1.27->langchain_openai) (2.31.0)\n",
            "Requirement already satisfied: tenacity<9.0.0,>=8.1.0 in /usr/local/lib/python3.10/dist-packages (from langchain-core<0.2.0,>=0.1.27->langchain_openai) (8.2.3)\n",
            "Requirement already satisfied: distro<2,>=1.7.0 in /usr/lib/python3/dist-packages (from openai<2.0.0,>=1.10.0->langchain_openai) (1.7.0)\n",
            "Collecting httpx<1,>=0.23.0 (from openai<2.0.0,>=1.10.0->langchain_openai)\n",
            "  Downloading httpx-0.27.0-py3-none-any.whl (75 kB)\n",
            "\u001b[2K     \u001b[90m━━━━━━━━━━━━━━━━━━━━━━━━━━━━━━━━━━━━━━━━\u001b[0m \u001b[32m75.6/75.6 kB\u001b[0m \u001b[31m10.8 MB/s\u001b[0m eta \u001b[36m0:00:00\u001b[0m\n",
            "\u001b[?25hRequirement already satisfied: sniffio in /usr/local/lib/python3.10/dist-packages (from openai<2.0.0,>=1.10.0->langchain_openai) (1.3.1)\n",
            "Requirement already satisfied: tqdm>4 in /usr/local/lib/python3.10/dist-packages (from openai<2.0.0,>=1.10.0->langchain_openai) (4.66.2)\n",
            "Requirement already satisfied: typing-extensions<5,>=4.7 in /usr/local/lib/python3.10/dist-packages (from openai<2.0.0,>=1.10.0->langchain_openai) (4.10.0)\n",
            "Requirement already satisfied: regex>=2022.1.18 in /usr/local/lib/python3.10/dist-packages (from tiktoken<1,>=0.5.2->langchain_openai) (2023.12.25)\n",
            "Requirement already satisfied: idna>=2.8 in /usr/local/lib/python3.10/dist-packages (from anyio<5,>=3->langchain-core<0.2.0,>=0.1.27->langchain_openai) (3.6)\n",
            "Requirement already satisfied: exceptiongroup in /usr/local/lib/python3.10/dist-packages (from anyio<5,>=3->langchain-core<0.2.0,>=0.1.27->langchain_openai) (1.2.0)\n",
            "Requirement already satisfied: certifi in /usr/local/lib/python3.10/dist-packages (from httpx<1,>=0.23.0->openai<2.0.0,>=1.10.0->langchain_openai) (2024.2.2)\n",
            "Collecting httpcore==1.* (from httpx<1,>=0.23.0->openai<2.0.0,>=1.10.0->langchain_openai)\n",
            "  Downloading httpcore-1.0.4-py3-none-any.whl (77 kB)\n",
            "\u001b[2K     \u001b[90m━━━━━━━━━━━━━━━━━━━━━━━━━━━━━━━━━━━━━━━━\u001b[0m \u001b[32m77.8/77.8 kB\u001b[0m \u001b[31m10.7 MB/s\u001b[0m eta \u001b[36m0:00:00\u001b[0m\n",
            "\u001b[?25hCollecting h11<0.15,>=0.13 (from httpcore==1.*->httpx<1,>=0.23.0->openai<2.0.0,>=1.10.0->langchain_openai)\n",
            "  Downloading h11-0.14.0-py3-none-any.whl (58 kB)\n",
            "\u001b[2K     \u001b[90m━━━━━━━━━━━━━━━━━━━━━━━━━━━━━━━━━━━━━━━━\u001b[0m \u001b[32m58.3/58.3 kB\u001b[0m \u001b[31m7.8 MB/s\u001b[0m eta \u001b[36m0:00:00\u001b[0m\n",
            "\u001b[?25hRequirement already satisfied: jsonpointer>=1.9 in /usr/local/lib/python3.10/dist-packages (from jsonpatch<2.0,>=1.33->langchain-core<0.2.0,>=0.1.27->langchain_openai) (2.4)\n",
            "Requirement already satisfied: orjson<4.0.0,>=3.9.14 in /usr/local/lib/python3.10/dist-packages (from langsmith<0.2.0,>=0.1.0->langchain-core<0.2.0,>=0.1.27->langchain_openai) (3.9.15)\n",
            "Requirement already satisfied: annotated-types>=0.4.0 in /usr/local/lib/python3.10/dist-packages (from pydantic<3,>=1->langchain-core<0.2.0,>=0.1.27->langchain_openai) (0.6.0)\n",
            "Requirement already satisfied: pydantic-core==2.16.3 in /usr/local/lib/python3.10/dist-packages (from pydantic<3,>=1->langchain-core<0.2.0,>=0.1.27->langchain_openai) (2.16.3)\n",
            "Requirement already satisfied: charset-normalizer<4,>=2 in /usr/local/lib/python3.10/dist-packages (from requests<3,>=2->langchain-core<0.2.0,>=0.1.27->langchain_openai) (3.3.2)\n",
            "Requirement already satisfied: urllib3<3,>=1.21.1 in /usr/local/lib/python3.10/dist-packages (from requests<3,>=2->langchain-core<0.2.0,>=0.1.27->langchain_openai) (2.0.7)\n",
            "Installing collected packages: h11, tiktoken, httpcore, httpx, openai, langchain_openai\n",
            "Successfully installed h11-0.14.0 httpcore-1.0.4 httpx-0.27.0 langchain_openai-0.0.8 openai-1.13.3 tiktoken-0.6.0\n"
          ]
        }
      ]
    },
    {
      "cell_type": "code",
      "execution_count": 3,
      "metadata": {
        "id": "Ae1vbfaoA37c"
      },
      "outputs": [],
      "source": [
        "from typing import Callable, List\n",
        "\n",
        "from langchain.schema import (\n",
        "    HumanMessage,\n",
        "    SystemMessage,\n",
        ")\n",
        "from langchain_openai import ChatOpenAI"
      ]
    },
    {
      "cell_type": "code",
      "source": [
        "import os\n",
        "from google.colab import userdata\n",
        "OPENAI_API_KEY = userdata.get('openai_key')\n",
        "os.environ['OPENAI_API_KEY'] = OPENAI_API_KEY"
      ],
      "metadata": {
        "id": "RXQ5azfSD50k"
      },
      "execution_count": 9,
      "outputs": []
    },
    {
      "cell_type": "markdown",
      "source": [
        "## DialogueAgent class"
      ],
      "metadata": {
        "id": "C5MJciClCuLR"
      }
    },
    {
      "cell_type": "markdown",
      "source": [
        "The DialogueAgent class is a simple wrapper around the ChatOpenAI model that stores the message history from the dialogue_agent's point of view by simply concatenating the messages as strings.\n",
        "\n",
        "It exposes two methods:\n",
        "\n",
        "send(): applies the chatmodel to the message history and returns the message string\n",
        "receive(name, message): adds the message spoken by name to message history"
      ],
      "metadata": {
        "id": "vsHM-2V1C1p6"
      }
    },
    {
      "cell_type": "code",
      "source": [
        "class DialogueAgent:\n",
        "    def __init__(\n",
        "        self,\n",
        "        name: str,\n",
        "        system_message: SystemMessage,\n",
        "        model: ChatOpenAI,\n",
        "    ) -> None:\n",
        "        self.name = name\n",
        "        self.system_message = system_message\n",
        "        self.model = model\n",
        "        self.prefix = f\"{self.name}: \"\n",
        "        self.reset()\n",
        "\n",
        "    def reset(self):\n",
        "        self.message_history = [\"Here is the conversation so far.\"]\n",
        "\n",
        "    def send(self) -> str:\n",
        "        \"\"\"\n",
        "        Applies the chatmodel to the message history\n",
        "        and returns the message string\n",
        "        \"\"\"\n",
        "        message = self.model(\n",
        "            [\n",
        "                self.system_message,\n",
        "                HumanMessage(content=\"\\n\".join(self.message_history + [self.prefix])),\n",
        "            ]\n",
        "        )\n",
        "        return message.content\n",
        "\n",
        "    def receive(self, name: str, message: str) -> None:\n",
        "        \"\"\"\n",
        "        Concatenates {message} spoken by {name} into message history\n",
        "        \"\"\"\n",
        "        self.message_history.append(f\"{name}: {message}\")"
      ],
      "metadata": {
        "id": "sNwymSGxB9WM"
      },
      "execution_count": 4,
      "outputs": []
    },
    {
      "cell_type": "markdown",
      "source": [
        "## DialogueSimulator class"
      ],
      "metadata": {
        "id": "YRsxlyUKDFIH"
      }
    },
    {
      "cell_type": "markdown",
      "source": [
        "The DialogueSimulator class takes a list of agents. At each step, it performs the following:\n",
        "\n",
        "1. Select the next speaker\n",
        "\n",
        "2. Calls the next speaker to send a message\n",
        "\n",
        "3. Broadcasts the message to all other agents\n",
        "\n",
        "4. Update the step counter. The selection of the next speaker can be implemented as any function, but in this case we simply loop through the agents."
      ],
      "metadata": {
        "id": "TW-PyuREDHI6"
      }
    },
    {
      "cell_type": "code",
      "source": [
        "class DialogueSimulator:\n",
        "    def __init__(\n",
        "        self,\n",
        "        agents: List[DialogueAgent],\n",
        "        selection_function: Callable[[int, List[DialogueAgent]], int],\n",
        "    ) -> None:\n",
        "        self.agents = agents\n",
        "        self._step = 0\n",
        "        self.select_next_speaker = selection_function\n",
        "\n",
        "    def reset(self):\n",
        "        for agent in self.agents:\n",
        "            agent.reset()\n",
        "\n",
        "    def inject(self, name: str, message: str):\n",
        "        \"\"\"\n",
        "        Initiates the conversation with a {message} from {name}\n",
        "        \"\"\"\n",
        "        for agent in self.agents:\n",
        "            agent.receive(name, message)\n",
        "\n",
        "        # increment time\n",
        "        self._step += 1\n",
        "\n",
        "    def step(self) -> tuple[str, str]:\n",
        "        # 1. choose the next speaker\n",
        "        speaker_idx = self.select_next_speaker(self._step, self.agents)\n",
        "        speaker = self.agents[speaker_idx]\n",
        "\n",
        "        # 2. next speaker sends message\n",
        "        message = speaker.send()\n",
        "\n",
        "        # 3. everyone receives message\n",
        "        for receiver in self.agents:\n",
        "            receiver.receive(speaker.name, message)\n",
        "\n",
        "        # 4. increment time\n",
        "        self._step += 1\n",
        "\n",
        "        return speaker.name, message"
      ],
      "metadata": {
        "id": "5BiGFeIADBhB"
      },
      "execution_count": 5,
      "outputs": []
    },
    {
      "cell_type": "markdown",
      "source": [
        "# Define roles and quest"
      ],
      "metadata": {
        "id": "EE9qXB4ZDb4k"
      }
    },
    {
      "cell_type": "code",
      "source": [
        "protagonist_name = \"Harry Potter\"\n",
        "storyteller_name = \"Dungeon Master\"\n",
        "quest = \"Find all of Lord Voldemort's seven horcruxes.\"\n",
        "word_limit = 50  # word limit for task brainstorming"
      ],
      "metadata": {
        "id": "4OAtYz82DX_P"
      },
      "execution_count": 6,
      "outputs": []
    },
    {
      "cell_type": "markdown",
      "source": [
        "# Ask an LLM to add detail to the game description"
      ],
      "metadata": {
        "id": "8TymZfUMDh60"
      }
    },
    {
      "cell_type": "code",
      "source": [
        "game_description = f\"\"\"Here is the topic for a Dungeons & Dragons game: {quest}.\n",
        "        There is one player in this game: the protagonist, {protagonist_name}.\n",
        "        The story is narrated by the storyteller, {storyteller_name}.\"\"\"\n",
        "\n",
        "player_descriptor_system_message = SystemMessage(\n",
        "    content=\"You can add detail to the description of a Dungeons & Dragons player.\"\n",
        ")\n",
        "\n",
        "protagonist_specifier_prompt = [\n",
        "    player_descriptor_system_message,\n",
        "    HumanMessage(\n",
        "        content=f\"\"\"{game_description}\n",
        "        Please reply with a creative description of the protagonist, {protagonist_name}, in {word_limit} words or less.\n",
        "        Speak directly to {protagonist_name}.\n",
        "        Do not add anything else.\"\"\"\n",
        "    ),\n",
        "]\n",
        "protagonist_description = ChatOpenAI(temperature=1.0)(\n",
        "    protagonist_specifier_prompt\n",
        ").content\n",
        "\n",
        "storyteller_specifier_prompt = [\n",
        "    player_descriptor_system_message,\n",
        "    HumanMessage(\n",
        "        content=f\"\"\"{game_description}\n",
        "        Please reply with a creative description of the storyteller, {storyteller_name}, in {word_limit} words or less.\n",
        "        Speak directly to {storyteller_name}.\n",
        "        Do not add anything else.\"\"\"\n",
        "    ),\n",
        "]\n",
        "storyteller_description = ChatOpenAI(temperature=1.0)(\n",
        "    storyteller_specifier_prompt\n",
        ").content"
      ],
      "metadata": {
        "colab": {
          "base_uri": "https://localhost:8080/"
        },
        "id": "TYW1gv4FDfUH",
        "outputId": "82520492-5d54-4480-cf9d-3b5612bef206"
      },
      "execution_count": 10,
      "outputs": [
        {
          "output_type": "stream",
          "name": "stderr",
          "text": [
            "/usr/local/lib/python3.10/dist-packages/langchain_core/_api/deprecation.py:117: LangChainDeprecationWarning: The function `__call__` was deprecated in LangChain 0.1.7 and will be removed in 0.2.0. Use invoke instead.\n",
            "  warn_deprecated(\n"
          ]
        }
      ]
    },
    {
      "cell_type": "code",
      "source": [
        "print(\"Protagonist Description:\")\n",
        "print(protagonist_description)\n",
        "print(\"Storyteller Description:\")\n",
        "print(storyteller_description)"
      ],
      "metadata": {
        "colab": {
          "base_uri": "https://localhost:8080/"
        },
        "id": "hJSGhcbJDmBz",
        "outputId": "012bfccf-761e-41c4-93e1-c3bec31d988e"
      },
      "execution_count": 11,
      "outputs": [
        {
          "output_type": "stream",
          "name": "stdout",
          "text": [
            "Protagonist Description:\n",
            "Oh, Harry Potter, with your lightning scar and heart full of courage. Your unwavering determination propels you forward on this perilous quest. May the magic that flows through your veins guide your path as you seek to vanquish the dark lord and destroy his horcruxes. The fate of the wizarding world rests in your hands.\n",
            "Storyteller Description:\n",
            "Dungeon Master, your voice weaves spells through the tapestry of our minds, guiding us through realms unknown. Your every word shapes our fates, an unseen hand steering our destinies. Lead us through the mysteries that lie ahead, for your imagination is our gateway to adventure.\n"
          ]
        }
      ]
    },
    {
      "cell_type": "markdown",
      "source": [
        "# Protagonist and dungeon master system messages"
      ],
      "metadata": {
        "id": "smBH_XFcEMJ4"
      }
    },
    {
      "cell_type": "code",
      "source": [
        "protagonist_system_message = SystemMessage(\n",
        "    content=(\n",
        "        f\"\"\"{game_description}\n",
        "Never forget you are the protagonist, {protagonist_name}, and I am the storyteller, {storyteller_name}.\n",
        "Your character description is as follows: {protagonist_description}.\n",
        "You will propose actions you plan to take and I will explain what happens when you take those actions.\n",
        "Speak in the first person from the perspective of {protagonist_name}.\n",
        "For describing your own body movements, wrap your description in '*'.\n",
        "Do not change roles!\n",
        "Do not speak from the perspective of {storyteller_name}.\n",
        "Do not forget to finish speaking by saying, 'It is your turn, {storyteller_name}.'\n",
        "Do not add anything else.\n",
        "Remember you are the protagonist, {protagonist_name}.\n",
        "Stop speaking the moment you finish speaking from your perspective.\n",
        "\"\"\"\n",
        "    )\n",
        ")\n",
        "\n",
        "storyteller_system_message = SystemMessage(\n",
        "    content=(\n",
        "        f\"\"\"{game_description}\n",
        "Never forget you are the storyteller, {storyteller_name}, and I am the protagonist, {protagonist_name}.\n",
        "Your character description is as follows: {storyteller_description}.\n",
        "I will propose actions I plan to take and you will explain what happens when I take those actions.\n",
        "Speak in the first person from the perspective of {storyteller_name}.\n",
        "For describing your own body movements, wrap your description in '*'.\n",
        "Do not change roles!\n",
        "Do not speak from the perspective of {protagonist_name}.\n",
        "Do not forget to finish speaking by saying, 'It is your turn, {protagonist_name}.'\n",
        "Do not add anything else.\n",
        "Remember you are the storyteller, {storyteller_name}.\n",
        "Stop speaking the moment you finish speaking from your perspective.\n",
        "\"\"\"\n",
        "    )\n",
        ")"
      ],
      "metadata": {
        "id": "f_GS1G3PEJaO"
      },
      "execution_count": 12,
      "outputs": []
    },
    {
      "cell_type": "markdown",
      "source": [
        "# Use an LLM to create an elaborate quest description"
      ],
      "metadata": {
        "id": "SlYL5aX0ETVb"
      }
    },
    {
      "cell_type": "code",
      "source": [
        "quest_specifier_prompt = [\n",
        "    SystemMessage(content=\"You can make a task more specific.\"),\n",
        "    HumanMessage(\n",
        "        content=f\"\"\"{game_description}\n",
        "\n",
        "        You are the storyteller, {storyteller_name}.\n",
        "        Please make the quest more specific. Be creative and imaginative.\n",
        "        Please reply with the specified quest in {word_limit} words or less.\n",
        "        Speak directly to the protagonist {protagonist_name}.\n",
        "        Do not add anything else.\"\"\"\n",
        "    ),\n",
        "]\n",
        "specified_quest = ChatOpenAI(temperature=1.0)(quest_specifier_prompt).content\n",
        "\n",
        "print(f\"Original quest:\\n{quest}\\n\")\n",
        "print(f\"Detailed quest:\\n{specified_quest}\\n\")"
      ],
      "metadata": {
        "colab": {
          "base_uri": "https://localhost:8080/"
        },
        "id": "LcvizcgTEQB7",
        "outputId": "91628729-a48e-4419-ea90-2e4c1cb568bf"
      },
      "execution_count": 13,
      "outputs": [
        {
          "output_type": "stream",
          "name": "stdout",
          "text": [
            "Original quest:\n",
            "Find all of Lord Voldemort's seven horcruxes.\n",
            "\n",
            "Detailed quest:\n",
            "Harry Potter, the fate of the wizarding world lies in your hands. You must seek and destroy Lord Voldemort's seven horcruxes, hidden in enchanted realms. Unleash your courage and wit, overcome magical trials and protect the wizarding world from darkness. Are you ready to face this ultimate challenge, Harry?\n",
            "\n"
          ]
        }
      ]
    },
    {
      "cell_type": "markdown",
      "source": [
        "# Main Loop"
      ],
      "metadata": {
        "id": "_pf1m28mEevQ"
      }
    },
    {
      "cell_type": "code",
      "source": [
        "protagonist = DialogueAgent(\n",
        "    name=protagonist_name,\n",
        "    system_message=protagonist_system_message,\n",
        "    model=ChatOpenAI(temperature=0.2),\n",
        ")\n",
        "storyteller = DialogueAgent(\n",
        "    name=storyteller_name,\n",
        "    system_message=storyteller_system_message,\n",
        "    model=ChatOpenAI(temperature=0.2),\n",
        ")"
      ],
      "metadata": {
        "id": "2tNSc9uVEbyy"
      },
      "execution_count": 14,
      "outputs": []
    },
    {
      "cell_type": "code",
      "source": [
        "def select_next_speaker(step: int, agents: List[DialogueAgent]) -> int:\n",
        "    idx = step % len(agents)\n",
        "    return idx"
      ],
      "metadata": {
        "id": "smIv-MhaEiu6"
      },
      "execution_count": 15,
      "outputs": []
    },
    {
      "cell_type": "code",
      "source": [
        "max_iters = 6\n",
        "n = 0\n",
        "\n",
        "simulator = DialogueSimulator(\n",
        "    agents=[storyteller, protagonist], selection_function=select_next_speaker\n",
        ")\n",
        "simulator.reset()\n",
        "simulator.inject(storyteller_name, specified_quest)\n",
        "print(f\"({storyteller_name}): {specified_quest}\")\n",
        "print(\"\\n\")\n",
        "\n",
        "while n < max_iters:\n",
        "    name, message = simulator.step()\n",
        "    print(f\"({name}): {message}\")\n",
        "    print(\"\\n\")\n",
        "    n += 1"
      ],
      "metadata": {
        "colab": {
          "base_uri": "https://localhost:8080/"
        },
        "id": "5DpEc8cZElBv",
        "outputId": "826501c8-3199-4110-9641-e185641dc9aa"
      },
      "execution_count": 16,
      "outputs": [
        {
          "output_type": "stream",
          "name": "stdout",
          "text": [
            "(Dungeon Master): Harry Potter, the fate of the wizarding world lies in your hands. You must seek and destroy Lord Voldemort's seven horcruxes, hidden in enchanted realms. Unleash your courage and wit, overcome magical trials and protect the wizarding world from darkness. Are you ready to face this ultimate challenge, Harry?\n",
            "\n",
            "\n",
            "(Harry Potter): I stand tall, my wand at the ready, my heart filled with determination. I will not rest until I have found and destroyed all of Lord Voldemort's horcruxes. The wizarding world depends on me, and I will not fail. I take a deep breath, steeling myself for the dangerous journey ahead. It is your turn, Dungeon Master.\n",
            "\n",
            "\n",
            "(Dungeon Master): *My voice resonates with power as I describe the mystical lands that lay before you, Harry. You find yourself standing at a crossroads, the path splitting into three different directions. To your left, a dark forest looms ominously, whispering secrets of ancient magic. In front of you, a shimmering lake reflects the moonlight, its waters hiding untold mysteries. And to your right, a winding mountain trail leads up into the clouds, promising challenges and rewards beyond imagination. Where will you go, Harry Potter? Choose wisely, for your destiny awaits.* It is your turn, Harry Potter.\n",
            "\n",
            "\n",
            "(Harry Potter): *I take a moment to consider my options, weighing the risks and rewards of each path before me. With a sense of foreboding, I decide to venture into the dark forest to the left. I tighten my grip on my wand, ready to face whatever dangers may lie ahead in my quest to find Lord Voldemort's horcruxes.* It is your turn, Dungeon Master.\n",
            "\n",
            "\n",
            "(Dungeon Master): *As you step into the dark forest, the air grows thick with magic, the trees whispering ancient incantations. Shadows dance around you, and the sound of rustling leaves fills the air. Suddenly, you hear a low growl coming from the underbrush, and a pair of glowing eyes fixate on you from the darkness. A massive Acromantula, its hairy legs poised to strike, emerges from the shadows, ready to defend its territory. What will you do, Harry Potter?* It is your turn, Harry Potter.\n",
            "\n",
            "\n",
            "(Harry Potter): *I raise my wand, casting a stunning spell at the Acromantula to immobilize it temporarily. As it freezes in place, I quickly search the area for any signs of a horcrux, keeping a watchful eye on the creature in case it breaks free. I know that time is of the essence, and I must remain focused on my mission to destroy Lord Voldemort's horcruxes.* It is your turn, Dungeon Master.\n",
            "\n",
            "\n",
            "(Dungeon Master): The stunning spell hits the Acromantula, causing it to freeze in place, its eight legs rigid and unmoving. With the creature temporarily immobilized, you carefully search the area, scanning the shadows for any signs of a horcrux. Your keen eyes spot a glint of silver hidden beneath a tangle of roots, and as you cautiously approach, you uncover a small, ornate locket half-buried in the forest floor. The locket emits a faint, dark aura, confirming your suspicions that it is one of Lord Voldemort's horcruxes. Congratulations, Harry Potter, you have found the first of the seven horcruxes. But beware, for the journey ahead will only grow more perilous as you seek to destroy the Dark Lord's soul fragments. What will you do next in your quest, Harry Potter? It is your turn, Harry Potter.\n",
            "\n",
            "\n"
          ]
        }
      ]
    },
    {
      "cell_type": "code",
      "source": [],
      "metadata": {
        "id": "ZEGyC31WEno5"
      },
      "execution_count": null,
      "outputs": []
    }
  ]
}